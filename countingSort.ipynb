{
 "metadata": {
  "language_info": {
   "codemirror_mode": {
    "name": "ipython",
    "version": 3
   },
   "file_extension": ".py",
   "mimetype": "text/x-python",
   "name": "python",
   "nbconvert_exporter": "python",
   "pygments_lexer": "ipython3",
   "version": "3.8.10"
  },
  "orig_nbformat": 2,
  "kernelspec": {
   "name": "python3",
   "display_name": "Python 3.8.10 64-bit ('Python38')"
  },
  "metadata": {
   "interpreter": {
    "hash": "cc691cb6f78b01aaf214942beb8a08c177de914380e5fed5a73e560f28ba4ae2"
   }
  },
  "interpreter": {
   "hash": "cc691cb6f78b01aaf214942beb8a08c177de914380e5fed5a73e560f28ba4ae2"
  }
 },
 "nbformat": 4,
 "nbformat_minor": 2,
 "cells": [
  {
   "cell_type": "markdown",
   "source": [
    "# Counting Sort \r\n",
    "\r\n",
    "Explanation of counting sort functionality and demonstration of their lineal magnitude order.\r\n",
    "\r\n",
    "---\r\n",
    "![Universidad de Antioquia](https://vias.ciiisol.com/images/LogoFacultaddeIngenieria-verde.png)\r\n",
    "\r\n",
    "\r\n",
    "\r\n",
    "## Departamento de Ingeniería de Sistemas\r\n",
    "### Estructuras de Datos\r\n",
    "#### 2021-1\r\n",
    "\r\n",
    "---\r\n",
    "\r\n",
    "> *Juan Cardona* "
   ],
   "metadata": {}
  },
  {
   "cell_type": "markdown",
   "source": [
    "## Developer\r\n",
    "\r\n",
    "**Harold H. Seward** computer scientist, engineer and inventor.\r\n",
    "\r\n",
    "**Seward** developed the *radix sort* and *counting sort* algorithms in 1954 at MIT.\r\n",
    "\r\n",
    "![Harold H Seward](https://currentobitwebstorage.blob.core.windows.net/067/06822c877d864c47b0b15c7005b30790.jpg)\r\n",
    "\r\n",
    "Born:\t*July 24, 1930*\r\n",
    "\r\n",
    "Died:\t*June 19, 2012* (aged 81)\r\n",
    "\r\n",
    "He also worked on the *Whirlwind Computer* (it was among the first digital electronic computers that operated in real-time for output) and developed instruments that powered the guidance systems for the Apollo spacecraft and Polaris missile.\r\n",
    "\r\n",
    "\r\n"
   ],
   "metadata": {}
  },
  {
   "cell_type": "markdown",
   "source": [
    "## Introducing Counting Sort\n",
    "\n",
    "### What is counting sort?\n",
    "\n",
    "It is a sorting algorithm where all the input in the input $array$ are positive integers.\n",
    "\n",
    "Counting sort assumes that each element in the input $array$ has a value ranging from $minValue$ to $maxValue$.\n",
    "\n",
    "- $array$\n",
    "- $minValue$\n",
    "- $maxValue$\n",
    "\n"
   ],
   "metadata": {}
  },
  {
   "cell_type": "code",
   "execution_count": 8,
   "source": [
    "import numpy.random as rdm\r\n",
    "\r\n",
    "# create one random input array\r\n",
    "arr = list(rdm.randint(190,size = 7)) \r\n",
    "\r\n",
    "# get the minimum value in the input array \r\n",
    "minValue = min(arr)\r\n",
    "\r\n",
    "# get the maximum value in the input array\r\n",
    "maxValue = max(arr) \r\n",
    "\r\n",
    "print('array = '+str(arr))\r\n",
    "print('minValue = '+ str(minValue))\r\n",
    "print('maxValue = '+ str(maxValue))\r\n",
    "# print('---this cell runs 3n times')"
   ],
   "outputs": [
    {
     "output_type": "stream",
     "name": "stdout",
     "text": [
      "array = [89, 101, 69, 181, 162, 77, 143]\n",
      "minValue = 69\n",
      "maxValue = 181\n"
     ]
    }
   ],
   "metadata": {}
  },
  {
   "cell_type": "markdown",
   "source": [
    "### Functionality\n",
    "\n",
    "Counting sorts is a special sorting algorithm that runs in linear time\n",
    "\n",
    "* $O(n+k)$\n",
    "\n",
    "with respect to two variables:\n",
    "\n",
    "1. The length of the input $array$\n",
    "\n",
    "- $n = length(array)$\n",
    "\n",
    "2. The distance betwen the $minValue$ and the $maxValue$\n",
    "\n",
    "- $k = maxValue - minValue + 1$"
   ],
   "metadata": {}
  },
  {
   "cell_type": "code",
   "execution_count": 12,
   "source": [
    "# get the length of the input array\r\n",
    "n = len(arr) \r\n",
    "\r\n",
    "# get the distance between the minValue and the maxValue\r\n",
    "k = maxValue - minValue + 1 \r\n",
    "\r\n",
    "print('n = '+str(n))\r\n",
    "print('k = '+ str(k))\r\n",
    "# print('---this cell runs n+1 times')"
   ],
   "outputs": [
    {
     "output_type": "stream",
     "name": "stdout",
     "text": [
      "n = 7\n",
      "k = 113\n"
     ]
    }
   ],
   "metadata": {}
  },
  {
   "cell_type": "markdown",
   "source": [
    "For each element in the $array$, counting sort map it as the index of the $temporal$ array and increasing in 1 the corresponding value.\n",
    "- $temporal=[0,0,0, \\dots, k]$"
   ],
   "metadata": {}
  },
  {
   "cell_type": "code",
   "execution_count": 3,
   "source": [
    "# create the temporal array\r\n",
    "temporal = [0]*k \r\n",
    "\r\n",
    "# fill the temporal array with the occurrences of each value in the input array\r\n",
    "for value in arr:\r\n",
    "    temporal[value - minValue]+=1  \r\n",
    "\r\n",
    "print('temporal = ' +str(temporal))\r\n",
    "# print('---this cell runs k+n times')\r\n",
    "# print(sum(temporal)==n)"
   ],
   "outputs": [
    {
     "output_type": "stream",
     "name": "stdout",
     "text": [
      "temporal = [1, 1, 1, 0, 0, 0, 1, 1, 0, 0, 0, 0, 1, 1]\n",
      "True\n"
     ]
    }
   ],
   "metadata": {}
  },
  {
   "cell_type": "markdown",
   "source": [
    "Finally counting sort use the $temporal$ array index to place the element directly into the correct slot in the $solution$ array.\r\n",
    "\r\n",
    "- $solution=[0,0,0, \\dots, n]$"
   ],
   "metadata": {}
  },
  {
   "cell_type": "code",
   "execution_count": 4,
   "source": [
    "# create the soution array\r\n",
    "solution = []\r\n",
    "\r\n",
    "# fill the solution array with the index on the temporal array if the value in it, it's different to 0\r\n",
    "for i in range(len(temporal)):\r\n",
    "    while temporal[i]>0:\r\n",
    "        solution.append(i+minValue)\r\n",
    "        temporal[i]-=1\r\n",
    "\r\n",
    "print('solution = '+ str(solution))  \r\n",
    "\r\n",
    "# print('---this cell runs 1+k+n times')"
   ],
   "outputs": [
    {
     "output_type": "stream",
     "name": "stdout",
     "text": [
      "solution = [3, 4, 5, 9, 10, 15, 16]\n"
     ]
    }
   ],
   "metadata": {}
  },
  {
   "cell_type": "markdown",
   "source": [
    "I want to graph an array with points in the form $(n+k, O(n+k))$, with $n$ increasiong, so i define the next function to perform the counting sort for $n$ variable and return the value of $n + k$."
   ],
   "metadata": {}
  },
  {
   "cell_type": "markdown",
   "source": [
    "\r\n",
    "## $O(n+k)$\r\n",
    "### Demonstration of the magnitude order\r\n",
    "\r\n",
    "First I'll get all the times that each cell was executed and then I'll define the magnitud order function for the code i wrote. \r\n",
    "\r\n",
    "### Cell 1 iterations $\\sum_{i=1}^{n} 1 +\\sum_{i=1}^{n} 1 +\\sum_{i=1}^{n} 1 = 3n$\r\n",
    "### Cell 2 iterations $(\\sum_{i=1}^{n} 1 )+ 1 = n +1$\r\n",
    "### Cell 3 iterations $\\sum_{i=1}^{k} 1 + \\sum_{i=1}^{n} 1 = k+n$\r\n",
    "### Cell 4 iterations $1 + \\sum_{i=1}^{k} 1+ \\sum_{i=1}^{n} 1 = 1+k+n$\r\n",
    "\r\n",
    "$O(n+k) = \\sum_{i=1}^{n} 1 +\\sum_{i=1}^{n} 1 +\\sum_{i=1}^{n} 1 + (\\sum_{i=1}^{n} 1 )+ 1 + \\sum_{i=1}^{k} 1 + (\\sum_{i=1}^{n} 1) + 1 + \\sum_{i=1}^{k} 1+ \\sum_{i=1}^{n} 1 $\r\n",
    "\r\n",
    "$O(n+k) = 3n+n+1+k+n+1+k+n $\r\n",
    "\r\n",
    "$O(n+k) = 6n+2k+2$"
   ],
   "metadata": {}
  },
  {
   "cell_type": "code",
   "execution_count": 14,
   "source": [
    "def countingSorn (n):\r\n",
    "    import numpy.random as rdm\r\n",
    "    \r\n",
    "    # create one random input array\r\n",
    "    arr = list(rdm.randint(n**2, size = n))\r\n",
    "\r\n",
    "    # get the minimum value in the input array \r\n",
    "    minValue = min(arr)\r\n",
    "\r\n",
    "    # get the maximum value in the input array\r\n",
    "    maxValue = max(arr)\r\n",
    "\r\n",
    "    # get the length of the input array\r\n",
    "    n = len(arr) \r\n",
    "\r\n",
    "    # get the distance between the minValue and the maxValue\r\n",
    "    k = maxValue - minValue + 1 \r\n",
    "\r\n",
    "    # create the temporal array\r\n",
    "    temporal = [0]*k \r\n",
    "\r\n",
    "    # fill the temporal array with the occurrences of each value in the input array\r\n",
    "    for value in arr:\r\n",
    "        temporal[value - minValue]+=1  \r\n",
    "\r\n",
    "    # create the soution array\r\n",
    "    solution = []\r\n",
    "\r\n",
    "    # fill the solution array with the index on the temporal array if the value in it, it's different to 0\r\n",
    "    for i in range(len(temporal)):\r\n",
    "        while temporal[i]>0:\r\n",
    "            solution.append(i+minValue)\r\n",
    "            temporal[i]-=1\r\n",
    "\r\n",
    "    # return an array tith the time of execution and the sum n + k \r\n",
    "    return n+k\r\n"
   ],
   "outputs": [],
   "metadata": {}
  },
  {
   "cell_type": "markdown",
   "source": [
    "Finally I creste 2 arrays: \r\n",
    "- $timer = [O(n_1 + k_1)_1, ..., O(n_i + k_i)_i], i \\in [1, n]$ for each time that take the run of the counting sort for each $nk = [(n_1 + k_1), ..., (n_i + k_i)]$"
   ],
   "metadata": {}
  },
  {
   "cell_type": "code",
   "execution_count": 20,
   "source": [
    "import matplotlib.pyplot as plt\r\n",
    "plt.style.use('Solarize_Light2')\r\n",
    "import numpy as np\r\n",
    "\r\n",
    "# create array to fill it with the time of execution\r\n",
    "timer = []\r\n",
    "# create array to fill it with the value of each n + k\r\n",
    "nk = []\r\n",
    "\r\n",
    "# create linear space to map the counting sort and give a continuous grid layer\r\n",
    "n_set = np.linspace(1, 500, 400).astype(int)\r\n",
    "\r\n",
    "# run the counting sort 20 times to fill the arrays\r\n",
    "for n in n_set:\r\n",
    "        \r\n",
    "    t = %timeit -o -q -r 1 -n 1 nk.append(countingSorn(n))\r\n",
    "    timer.append(t.worst)\r\n",
    "\r\n",
    "# plot the arrays to see the results\r\n",
    "plt.xlabel(\"n + k\")\r\n",
    "plt.ylabel(\"t (s)\")\r\n",
    "plt.plot(np.log(nk), np.log(timer), color=\"red\")\r\n",
    "plt.legend([f\"n + k [{nk[0]}, {nk[-1]}]\"], loc=\"upper left\")\r\n"
   ],
   "outputs": [
    {
     "output_type": "execute_result",
     "data": {
      "text/plain": [
       "<matplotlib.legend.Legend at 0x24f7af46a00>"
      ]
     },
     "metadata": {},
     "execution_count": 20
    },
    {
     "output_type": "display_data",
     "data": {
      "text/plain": [
       "<Figure size 432x288 with 1 Axes>"
      ],
      "image/svg+xml": "<?xml version=\"1.0\" encoding=\"utf-8\" standalone=\"no\"?>\r\n<!DOCTYPE svg PUBLIC \"-//W3C//DTD SVG 1.1//EN\"\r\n  \"http://www.w3.org/Graphics/SVG/1.1/DTD/svg11.dtd\">\r\n<!-- Created with matplotlib (https://matplotlib.org/) -->\r\n<svg height=\"264.131875pt\" version=\"1.1\" viewBox=\"0 0 386.555937 264.131875\" width=\"386.555937pt\" xmlns=\"http://www.w3.org/2000/svg\" xmlns:xlink=\"http://www.w3.org/1999/xlink\">\r\n <metadata>\r\n  <rdf:RDF xmlns:cc=\"http://creativecommons.org/ns#\" xmlns:dc=\"http://purl.org/dc/elements/1.1/\" xmlns:rdf=\"http://www.w3.org/1999/02/22-rdf-syntax-ns#\">\r\n   <cc:Work>\r\n    <dc:type rdf:resource=\"http://purl.org/dc/dcmitype/StillImage\"/>\r\n    <dc:date>2021-08-12T08:40:23.229243</dc:date>\r\n    <dc:format>image/svg+xml</dc:format>\r\n    <dc:creator>\r\n     <cc:Agent>\r\n      <dc:title>Matplotlib v3.3.4, https://matplotlib.org/</dc:title>\r\n     </cc:Agent>\r\n    </dc:creator>\r\n   </cc:Work>\r\n  </rdf:RDF>\r\n </metadata>\r\n <defs>\r\n  <style type=\"text/css\">*{stroke-linecap:butt;stroke-linejoin:round;}</style>\r\n </defs>\r\n <g id=\"figure_1\">\r\n  <g id=\"patch_1\">\r\n   <path d=\"M 0 264.131875 \r\nL 386.555937 264.131875 \r\nL 386.555937 0 \r\nL 0 0 \r\nz\r\n\" style=\"fill:#fdf6e3;\"/>\r\n  </g>\r\n  <g id=\"axes_1\">\r\n   <g id=\"patch_2\">\r\n    <path d=\"M 44.555937 224.64 \r\nL 379.355938 224.64 \r\nL 379.355938 7.2 \r\nL 44.555937 7.2 \r\nz\r\n\" style=\"fill:#eee8d5;\"/>\r\n   </g>\r\n   <g id=\"matplotlib.axis_1\">\r\n    <g id=\"xtick_1\">\r\n     <g id=\"line2d_1\">\r\n      <path clip-path=\"url(#p41c2dd53e4)\" d=\"M 93.669659 224.64 \r\nL 93.669659 7.2 \r\n\" style=\"fill:none;stroke:#fdf6e3;\"/>\r\n     </g>\r\n     <g id=\"line2d_2\">\r\n      <defs>\r\n       <path d=\"M 0 0 \r\nL 0 3.5 \r\n\" id=\"mab2d30db0f\" style=\"stroke:#657b83;stroke-width:0.8;\"/>\r\n      </defs>\r\n      <g>\r\n       <use style=\"fill:#657b83;stroke:#657b83;stroke-width:0.8;\" x=\"93.669659\" xlink:href=\"#mab2d30db0f\" y=\"224.64\"/>\r\n      </g>\r\n     </g>\r\n     <g id=\"text_1\">\r\n      <!-- 2 -->\r\n      <g style=\"fill:#657b83;\" transform=\"translate(90.488409 239.238437)scale(0.1 -0.1)\">\r\n       <defs>\r\n        <path d=\"M 19.1875 8.296875 \r\nL 53.609375 8.296875 \r\nL 53.609375 0 \r\nL 7.328125 0 \r\nL 7.328125 8.296875 \r\nQ 12.9375 14.109375 22.625 23.890625 \r\nQ 32.328125 33.6875 34.8125 36.53125 \r\nQ 39.546875 41.84375 41.421875 45.53125 \r\nQ 43.3125 49.21875 43.3125 52.78125 \r\nQ 43.3125 58.59375 39.234375 62.25 \r\nQ 35.15625 65.921875 28.609375 65.921875 \r\nQ 23.96875 65.921875 18.8125 64.3125 \r\nQ 13.671875 62.703125 7.8125 59.421875 \r\nL 7.8125 69.390625 \r\nQ 13.765625 71.78125 18.9375 73 \r\nQ 24.125 74.21875 28.421875 74.21875 \r\nQ 39.75 74.21875 46.484375 68.546875 \r\nQ 53.21875 62.890625 53.21875 53.421875 \r\nQ 53.21875 48.921875 51.53125 44.890625 \r\nQ 49.859375 40.875 45.40625 35.40625 \r\nQ 44.1875 33.984375 37.640625 27.21875 \r\nQ 31.109375 20.453125 19.1875 8.296875 \r\nz\r\n\" id=\"DejaVuSans-50\"/>\r\n       </defs>\r\n       <use xlink:href=\"#DejaVuSans-50\"/>\r\n      </g>\r\n     </g>\r\n    </g>\r\n    <g id=\"xtick_2\">\r\n     <g id=\"line2d_3\">\r\n      <path clip-path=\"url(#p41c2dd53e4)\" d=\"M 145.543198 224.64 \r\nL 145.543198 7.2 \r\n\" style=\"fill:none;stroke:#fdf6e3;\"/>\r\n     </g>\r\n     <g id=\"line2d_4\">\r\n      <g>\r\n       <use style=\"fill:#657b83;stroke:#657b83;stroke-width:0.8;\" x=\"145.543198\" xlink:href=\"#mab2d30db0f\" y=\"224.64\"/>\r\n      </g>\r\n     </g>\r\n     <g id=\"text_2\">\r\n      <!-- 4 -->\r\n      <g style=\"fill:#657b83;\" transform=\"translate(142.361948 239.238437)scale(0.1 -0.1)\">\r\n       <defs>\r\n        <path d=\"M 37.796875 64.3125 \r\nL 12.890625 25.390625 \r\nL 37.796875 25.390625 \r\nz\r\nM 35.203125 72.90625 \r\nL 47.609375 72.90625 \r\nL 47.609375 25.390625 \r\nL 58.015625 25.390625 \r\nL 58.015625 17.1875 \r\nL 47.609375 17.1875 \r\nL 47.609375 0 \r\nL 37.796875 0 \r\nL 37.796875 17.1875 \r\nL 4.890625 17.1875 \r\nL 4.890625 26.703125 \r\nz\r\n\" id=\"DejaVuSans-52\"/>\r\n       </defs>\r\n       <use xlink:href=\"#DejaVuSans-52\"/>\r\n      </g>\r\n     </g>\r\n    </g>\r\n    <g id=\"xtick_3\">\r\n     <g id=\"line2d_5\">\r\n      <path clip-path=\"url(#p41c2dd53e4)\" d=\"M 197.416736 224.64 \r\nL 197.416736 7.2 \r\n\" style=\"fill:none;stroke:#fdf6e3;\"/>\r\n     </g>\r\n     <g id=\"line2d_6\">\r\n      <g>\r\n       <use style=\"fill:#657b83;stroke:#657b83;stroke-width:0.8;\" x=\"197.416736\" xlink:href=\"#mab2d30db0f\" y=\"224.64\"/>\r\n      </g>\r\n     </g>\r\n     <g id=\"text_3\">\r\n      <!-- 6 -->\r\n      <g style=\"fill:#657b83;\" transform=\"translate(194.235486 239.238437)scale(0.1 -0.1)\">\r\n       <defs>\r\n        <path d=\"M 33.015625 40.375 \r\nQ 26.375 40.375 22.484375 35.828125 \r\nQ 18.609375 31.296875 18.609375 23.390625 \r\nQ 18.609375 15.53125 22.484375 10.953125 \r\nQ 26.375 6.390625 33.015625 6.390625 \r\nQ 39.65625 6.390625 43.53125 10.953125 \r\nQ 47.40625 15.53125 47.40625 23.390625 \r\nQ 47.40625 31.296875 43.53125 35.828125 \r\nQ 39.65625 40.375 33.015625 40.375 \r\nz\r\nM 52.59375 71.296875 \r\nL 52.59375 62.3125 \r\nQ 48.875 64.0625 45.09375 64.984375 \r\nQ 41.3125 65.921875 37.59375 65.921875 \r\nQ 27.828125 65.921875 22.671875 59.328125 \r\nQ 17.53125 52.734375 16.796875 39.40625 \r\nQ 19.671875 43.65625 24.015625 45.921875 \r\nQ 28.375 48.1875 33.59375 48.1875 \r\nQ 44.578125 48.1875 50.953125 41.515625 \r\nQ 57.328125 34.859375 57.328125 23.390625 \r\nQ 57.328125 12.15625 50.6875 5.359375 \r\nQ 44.046875 -1.421875 33.015625 -1.421875 \r\nQ 20.359375 -1.421875 13.671875 8.265625 \r\nQ 6.984375 17.96875 6.984375 36.375 \r\nQ 6.984375 53.65625 15.1875 63.9375 \r\nQ 23.390625 74.21875 37.203125 74.21875 \r\nQ 40.921875 74.21875 44.703125 73.484375 \r\nQ 48.484375 72.75 52.59375 71.296875 \r\nz\r\n\" id=\"DejaVuSans-54\"/>\r\n       </defs>\r\n       <use xlink:href=\"#DejaVuSans-54\"/>\r\n      </g>\r\n     </g>\r\n    </g>\r\n    <g id=\"xtick_4\">\r\n     <g id=\"line2d_7\">\r\n      <path clip-path=\"url(#p41c2dd53e4)\" d=\"M 249.290275 224.64 \r\nL 249.290275 7.2 \r\n\" style=\"fill:none;stroke:#fdf6e3;\"/>\r\n     </g>\r\n     <g id=\"line2d_8\">\r\n      <g>\r\n       <use style=\"fill:#657b83;stroke:#657b83;stroke-width:0.8;\" x=\"249.290275\" xlink:href=\"#mab2d30db0f\" y=\"224.64\"/>\r\n      </g>\r\n     </g>\r\n     <g id=\"text_4\">\r\n      <!-- 8 -->\r\n      <g style=\"fill:#657b83;\" transform=\"translate(246.109025 239.238437)scale(0.1 -0.1)\">\r\n       <defs>\r\n        <path d=\"M 31.78125 34.625 \r\nQ 24.75 34.625 20.71875 30.859375 \r\nQ 16.703125 27.09375 16.703125 20.515625 \r\nQ 16.703125 13.921875 20.71875 10.15625 \r\nQ 24.75 6.390625 31.78125 6.390625 \r\nQ 38.8125 6.390625 42.859375 10.171875 \r\nQ 46.921875 13.96875 46.921875 20.515625 \r\nQ 46.921875 27.09375 42.890625 30.859375 \r\nQ 38.875 34.625 31.78125 34.625 \r\nz\r\nM 21.921875 38.8125 \r\nQ 15.578125 40.375 12.03125 44.71875 \r\nQ 8.5 49.078125 8.5 55.328125 \r\nQ 8.5 64.0625 14.71875 69.140625 \r\nQ 20.953125 74.21875 31.78125 74.21875 \r\nQ 42.671875 74.21875 48.875 69.140625 \r\nQ 55.078125 64.0625 55.078125 55.328125 \r\nQ 55.078125 49.078125 51.53125 44.71875 \r\nQ 48 40.375 41.703125 38.8125 \r\nQ 48.828125 37.15625 52.796875 32.3125 \r\nQ 56.78125 27.484375 56.78125 20.515625 \r\nQ 56.78125 9.90625 50.3125 4.234375 \r\nQ 43.84375 -1.421875 31.78125 -1.421875 \r\nQ 19.734375 -1.421875 13.25 4.234375 \r\nQ 6.78125 9.90625 6.78125 20.515625 \r\nQ 6.78125 27.484375 10.78125 32.3125 \r\nQ 14.796875 37.15625 21.921875 38.8125 \r\nz\r\nM 18.3125 54.390625 \r\nQ 18.3125 48.734375 21.84375 45.5625 \r\nQ 25.390625 42.390625 31.78125 42.390625 \r\nQ 38.140625 42.390625 41.71875 45.5625 \r\nQ 45.3125 48.734375 45.3125 54.390625 \r\nQ 45.3125 60.0625 41.71875 63.234375 \r\nQ 38.140625 66.40625 31.78125 66.40625 \r\nQ 25.390625 66.40625 21.84375 63.234375 \r\nQ 18.3125 60.0625 18.3125 54.390625 \r\nz\r\n\" id=\"DejaVuSans-56\"/>\r\n       </defs>\r\n       <use xlink:href=\"#DejaVuSans-56\"/>\r\n      </g>\r\n     </g>\r\n    </g>\r\n    <g id=\"xtick_5\">\r\n     <g id=\"line2d_9\">\r\n      <path clip-path=\"url(#p41c2dd53e4)\" d=\"M 301.163813 224.64 \r\nL 301.163813 7.2 \r\n\" style=\"fill:none;stroke:#fdf6e3;\"/>\r\n     </g>\r\n     <g id=\"line2d_10\">\r\n      <g>\r\n       <use style=\"fill:#657b83;stroke:#657b83;stroke-width:0.8;\" x=\"301.163813\" xlink:href=\"#mab2d30db0f\" y=\"224.64\"/>\r\n      </g>\r\n     </g>\r\n     <g id=\"text_5\">\r\n      <!-- 10 -->\r\n      <g style=\"fill:#657b83;\" transform=\"translate(294.801313 239.238437)scale(0.1 -0.1)\">\r\n       <defs>\r\n        <path d=\"M 12.40625 8.296875 \r\nL 28.515625 8.296875 \r\nL 28.515625 63.921875 \r\nL 10.984375 60.40625 \r\nL 10.984375 69.390625 \r\nL 28.421875 72.90625 \r\nL 38.28125 72.90625 \r\nL 38.28125 8.296875 \r\nL 54.390625 8.296875 \r\nL 54.390625 0 \r\nL 12.40625 0 \r\nz\r\n\" id=\"DejaVuSans-49\"/>\r\n        <path d=\"M 31.78125 66.40625 \r\nQ 24.171875 66.40625 20.328125 58.90625 \r\nQ 16.5 51.421875 16.5 36.375 \r\nQ 16.5 21.390625 20.328125 13.890625 \r\nQ 24.171875 6.390625 31.78125 6.390625 \r\nQ 39.453125 6.390625 43.28125 13.890625 \r\nQ 47.125 21.390625 47.125 36.375 \r\nQ 47.125 51.421875 43.28125 58.90625 \r\nQ 39.453125 66.40625 31.78125 66.40625 \r\nz\r\nM 31.78125 74.21875 \r\nQ 44.046875 74.21875 50.515625 64.515625 \r\nQ 56.984375 54.828125 56.984375 36.375 \r\nQ 56.984375 17.96875 50.515625 8.265625 \r\nQ 44.046875 -1.421875 31.78125 -1.421875 \r\nQ 19.53125 -1.421875 13.0625 8.265625 \r\nQ 6.59375 17.96875 6.59375 36.375 \r\nQ 6.59375 54.828125 13.0625 64.515625 \r\nQ 19.53125 74.21875 31.78125 74.21875 \r\nz\r\n\" id=\"DejaVuSans-48\"/>\r\n       </defs>\r\n       <use xlink:href=\"#DejaVuSans-49\"/>\r\n       <use x=\"63.623047\" xlink:href=\"#DejaVuSans-48\"/>\r\n      </g>\r\n     </g>\r\n    </g>\r\n    <g id=\"xtick_6\">\r\n     <g id=\"line2d_11\">\r\n      <path clip-path=\"url(#p41c2dd53e4)\" d=\"M 353.037352 224.64 \r\nL 353.037352 7.2 \r\n\" style=\"fill:none;stroke:#fdf6e3;\"/>\r\n     </g>\r\n     <g id=\"line2d_12\">\r\n      <g>\r\n       <use style=\"fill:#657b83;stroke:#657b83;stroke-width:0.8;\" x=\"353.037352\" xlink:href=\"#mab2d30db0f\" y=\"224.64\"/>\r\n      </g>\r\n     </g>\r\n     <g id=\"text_6\">\r\n      <!-- 12 -->\r\n      <g style=\"fill:#657b83;\" transform=\"translate(346.674852 239.238437)scale(0.1 -0.1)\">\r\n       <use xlink:href=\"#DejaVuSans-49\"/>\r\n       <use x=\"63.623047\" xlink:href=\"#DejaVuSans-50\"/>\r\n      </g>\r\n     </g>\r\n    </g>\r\n    <g id=\"text_7\">\r\n     <!-- n + k -->\r\n     <g style=\"fill:#657b83;\" transform=\"translate(195.8375 254.43625)scale(0.12 -0.12)\">\r\n      <defs>\r\n       <path d=\"M 54.890625 33.015625 \r\nL 54.890625 0 \r\nL 45.90625 0 \r\nL 45.90625 32.71875 \r\nQ 45.90625 40.484375 42.875 44.328125 \r\nQ 39.84375 48.1875 33.796875 48.1875 \r\nQ 26.515625 48.1875 22.3125 43.546875 \r\nQ 18.109375 38.921875 18.109375 30.90625 \r\nL 18.109375 0 \r\nL 9.078125 0 \r\nL 9.078125 54.6875 \r\nL 18.109375 54.6875 \r\nL 18.109375 46.1875 \r\nQ 21.34375 51.125 25.703125 53.5625 \r\nQ 30.078125 56 35.796875 56 \r\nQ 45.21875 56 50.046875 50.171875 \r\nQ 54.890625 44.34375 54.890625 33.015625 \r\nz\r\n\" id=\"DejaVuSans-110\"/>\r\n       <path id=\"DejaVuSans-32\"/>\r\n       <path d=\"M 46 62.703125 \r\nL 46 35.5 \r\nL 73.1875 35.5 \r\nL 73.1875 27.203125 \r\nL 46 27.203125 \r\nL 46 0 \r\nL 37.796875 0 \r\nL 37.796875 27.203125 \r\nL 10.59375 27.203125 \r\nL 10.59375 35.5 \r\nL 37.796875 35.5 \r\nL 37.796875 62.703125 \r\nz\r\n\" id=\"DejaVuSans-43\"/>\r\n       <path d=\"M 9.078125 75.984375 \r\nL 18.109375 75.984375 \r\nL 18.109375 31.109375 \r\nL 44.921875 54.6875 \r\nL 56.390625 54.6875 \r\nL 27.390625 29.109375 \r\nL 57.625 0 \r\nL 45.90625 0 \r\nL 18.109375 26.703125 \r\nL 18.109375 0 \r\nL 9.078125 0 \r\nz\r\n\" id=\"DejaVuSans-107\"/>\r\n      </defs>\r\n      <use xlink:href=\"#DejaVuSans-110\"/>\r\n      <use x=\"63.378906\" xlink:href=\"#DejaVuSans-32\"/>\r\n      <use x=\"95.166016\" xlink:href=\"#DejaVuSans-43\"/>\r\n      <use x=\"178.955078\" xlink:href=\"#DejaVuSans-32\"/>\r\n      <use x=\"210.742188\" xlink:href=\"#DejaVuSans-107\"/>\r\n     </g>\r\n    </g>\r\n   </g>\r\n   <g id=\"matplotlib.axis_2\">\r\n    <g id=\"ytick_1\">\r\n     <g id=\"line2d_13\">\r\n      <path clip-path=\"url(#p41c2dd53e4)\" d=\"M 44.555937 194.599781 \r\nL 379.355938 194.599781 \r\n\" style=\"fill:none;stroke:#fdf6e3;\"/>\r\n     </g>\r\n     <g id=\"line2d_14\">\r\n      <defs>\r\n       <path d=\"M 0 0 \r\nL -3.5 0 \r\n\" id=\"m942f2ffd9b\" style=\"stroke:#657b83;stroke-width:0.8;\"/>\r\n      </defs>\r\n      <g>\r\n       <use style=\"fill:#657b83;stroke:#657b83;stroke-width:0.8;\" x=\"44.555937\" xlink:href=\"#m942f2ffd9b\" y=\"194.599781\"/>\r\n      </g>\r\n     </g>\r\n     <g id=\"text_8\">\r\n      <!-- −9 -->\r\n      <g style=\"fill:#657b83;\" transform=\"translate(22.81375 198.399)scale(0.1 -0.1)\">\r\n       <defs>\r\n        <path d=\"M 10.59375 35.5 \r\nL 73.1875 35.5 \r\nL 73.1875 27.203125 \r\nL 10.59375 27.203125 \r\nz\r\n\" id=\"DejaVuSans-8722\"/>\r\n        <path d=\"M 10.984375 1.515625 \r\nL 10.984375 10.5 \r\nQ 14.703125 8.734375 18.5 7.8125 \r\nQ 22.3125 6.890625 25.984375 6.890625 \r\nQ 35.75 6.890625 40.890625 13.453125 \r\nQ 46.046875 20.015625 46.78125 33.40625 \r\nQ 43.953125 29.203125 39.59375 26.953125 \r\nQ 35.25 24.703125 29.984375 24.703125 \r\nQ 19.046875 24.703125 12.671875 31.3125 \r\nQ 6.296875 37.9375 6.296875 49.421875 \r\nQ 6.296875 60.640625 12.9375 67.421875 \r\nQ 19.578125 74.21875 30.609375 74.21875 \r\nQ 43.265625 74.21875 49.921875 64.515625 \r\nQ 56.59375 54.828125 56.59375 36.375 \r\nQ 56.59375 19.140625 48.40625 8.859375 \r\nQ 40.234375 -1.421875 26.421875 -1.421875 \r\nQ 22.703125 -1.421875 18.890625 -0.6875 \r\nQ 15.09375 0.046875 10.984375 1.515625 \r\nz\r\nM 30.609375 32.421875 \r\nQ 37.25 32.421875 41.125 36.953125 \r\nQ 45.015625 41.5 45.015625 49.421875 \r\nQ 45.015625 57.28125 41.125 61.84375 \r\nQ 37.25 66.40625 30.609375 66.40625 \r\nQ 23.96875 66.40625 20.09375 61.84375 \r\nQ 16.21875 57.28125 16.21875 49.421875 \r\nQ 16.21875 41.5 20.09375 36.953125 \r\nQ 23.96875 32.421875 30.609375 32.421875 \r\nz\r\n\" id=\"DejaVuSans-57\"/>\r\n       </defs>\r\n       <use xlink:href=\"#DejaVuSans-8722\"/>\r\n       <use x=\"83.789062\" xlink:href=\"#DejaVuSans-57\"/>\r\n      </g>\r\n     </g>\r\n    </g>\r\n    <g id=\"ytick_2\">\r\n     <g id=\"line2d_15\">\r\n      <path clip-path=\"url(#p41c2dd53e4)\" d=\"M 44.555937 162.079383 \r\nL 379.355938 162.079383 \r\n\" style=\"fill:none;stroke:#fdf6e3;\"/>\r\n     </g>\r\n     <g id=\"line2d_16\">\r\n      <g>\r\n       <use style=\"fill:#657b83;stroke:#657b83;stroke-width:0.8;\" x=\"44.555937\" xlink:href=\"#m942f2ffd9b\" y=\"162.079383\"/>\r\n      </g>\r\n     </g>\r\n     <g id=\"text_9\">\r\n      <!-- −8 -->\r\n      <g style=\"fill:#657b83;\" transform=\"translate(22.81375 165.878601)scale(0.1 -0.1)\">\r\n       <use xlink:href=\"#DejaVuSans-8722\"/>\r\n       <use x=\"83.789062\" xlink:href=\"#DejaVuSans-56\"/>\r\n      </g>\r\n     </g>\r\n    </g>\r\n    <g id=\"ytick_3\">\r\n     <g id=\"line2d_17\">\r\n      <path clip-path=\"url(#p41c2dd53e4)\" d=\"M 44.555937 129.558984 \r\nL 379.355938 129.558984 \r\n\" style=\"fill:none;stroke:#fdf6e3;\"/>\r\n     </g>\r\n     <g id=\"line2d_18\">\r\n      <g>\r\n       <use style=\"fill:#657b83;stroke:#657b83;stroke-width:0.8;\" x=\"44.555937\" xlink:href=\"#m942f2ffd9b\" y=\"129.558984\"/>\r\n      </g>\r\n     </g>\r\n     <g id=\"text_10\">\r\n      <!-- −7 -->\r\n      <g style=\"fill:#657b83;\" transform=\"translate(22.81375 133.358202)scale(0.1 -0.1)\">\r\n       <defs>\r\n        <path d=\"M 8.203125 72.90625 \r\nL 55.078125 72.90625 \r\nL 55.078125 68.703125 \r\nL 28.609375 0 \r\nL 18.3125 0 \r\nL 43.21875 64.59375 \r\nL 8.203125 64.59375 \r\nz\r\n\" id=\"DejaVuSans-55\"/>\r\n       </defs>\r\n       <use xlink:href=\"#DejaVuSans-8722\"/>\r\n       <use x=\"83.789062\" xlink:href=\"#DejaVuSans-55\"/>\r\n      </g>\r\n     </g>\r\n    </g>\r\n    <g id=\"ytick_4\">\r\n     <g id=\"line2d_19\">\r\n      <path clip-path=\"url(#p41c2dd53e4)\" d=\"M 44.555937 97.038585 \r\nL 379.355938 97.038585 \r\n\" style=\"fill:none;stroke:#fdf6e3;\"/>\r\n     </g>\r\n     <g id=\"line2d_20\">\r\n      <g>\r\n       <use style=\"fill:#657b83;stroke:#657b83;stroke-width:0.8;\" x=\"44.555937\" xlink:href=\"#m942f2ffd9b\" y=\"97.038585\"/>\r\n      </g>\r\n     </g>\r\n     <g id=\"text_11\">\r\n      <!-- −6 -->\r\n      <g style=\"fill:#657b83;\" transform=\"translate(22.81375 100.837803)scale(0.1 -0.1)\">\r\n       <use xlink:href=\"#DejaVuSans-8722\"/>\r\n       <use x=\"83.789062\" xlink:href=\"#DejaVuSans-54\"/>\r\n      </g>\r\n     </g>\r\n    </g>\r\n    <g id=\"ytick_5\">\r\n     <g id=\"line2d_21\">\r\n      <path clip-path=\"url(#p41c2dd53e4)\" d=\"M 44.555937 64.518186 \r\nL 379.355938 64.518186 \r\n\" style=\"fill:none;stroke:#fdf6e3;\"/>\r\n     </g>\r\n     <g id=\"line2d_22\">\r\n      <g>\r\n       <use style=\"fill:#657b83;stroke:#657b83;stroke-width:0.8;\" x=\"44.555937\" xlink:href=\"#m942f2ffd9b\" y=\"64.518186\"/>\r\n      </g>\r\n     </g>\r\n     <g id=\"text_12\">\r\n      <!-- −5 -->\r\n      <g style=\"fill:#657b83;\" transform=\"translate(22.81375 68.317404)scale(0.1 -0.1)\">\r\n       <defs>\r\n        <path d=\"M 10.796875 72.90625 \r\nL 49.515625 72.90625 \r\nL 49.515625 64.59375 \r\nL 19.828125 64.59375 \r\nL 19.828125 46.734375 \r\nQ 21.96875 47.46875 24.109375 47.828125 \r\nQ 26.265625 48.1875 28.421875 48.1875 \r\nQ 40.625 48.1875 47.75 41.5 \r\nQ 54.890625 34.8125 54.890625 23.390625 \r\nQ 54.890625 11.625 47.5625 5.09375 \r\nQ 40.234375 -1.421875 26.90625 -1.421875 \r\nQ 22.3125 -1.421875 17.546875 -0.640625 \r\nQ 12.796875 0.140625 7.71875 1.703125 \r\nL 7.71875 11.625 \r\nQ 12.109375 9.234375 16.796875 8.0625 \r\nQ 21.484375 6.890625 26.703125 6.890625 \r\nQ 35.15625 6.890625 40.078125 11.328125 \r\nQ 45.015625 15.765625 45.015625 23.390625 \r\nQ 45.015625 31 40.078125 35.4375 \r\nQ 35.15625 39.890625 26.703125 39.890625 \r\nQ 22.75 39.890625 18.8125 39.015625 \r\nQ 14.890625 38.140625 10.796875 36.28125 \r\nz\r\n\" id=\"DejaVuSans-53\"/>\r\n       </defs>\r\n       <use xlink:href=\"#DejaVuSans-8722\"/>\r\n       <use x=\"83.789062\" xlink:href=\"#DejaVuSans-53\"/>\r\n      </g>\r\n     </g>\r\n    </g>\r\n    <g id=\"ytick_6\">\r\n     <g id=\"line2d_23\">\r\n      <path clip-path=\"url(#p41c2dd53e4)\" d=\"M 44.555937 31.997787 \r\nL 379.355938 31.997787 \r\n\" style=\"fill:none;stroke:#fdf6e3;\"/>\r\n     </g>\r\n     <g id=\"line2d_24\">\r\n      <g>\r\n       <use style=\"fill:#657b83;stroke:#657b83;stroke-width:0.8;\" x=\"44.555937\" xlink:href=\"#m942f2ffd9b\" y=\"31.997787\"/>\r\n      </g>\r\n     </g>\r\n     <g id=\"text_13\">\r\n      <!-- −4 -->\r\n      <g style=\"fill:#657b83;\" transform=\"translate(22.81375 35.797005)scale(0.1 -0.1)\">\r\n       <use xlink:href=\"#DejaVuSans-8722\"/>\r\n       <use x=\"83.789062\" xlink:href=\"#DejaVuSans-52\"/>\r\n      </g>\r\n     </g>\r\n    </g>\r\n    <g id=\"text_14\">\r\n     <!-- t (s) -->\r\n     <g style=\"fill:#657b83;\" transform=\"translate(16.318125 127.986562)rotate(-90)scale(0.12 -0.12)\">\r\n      <defs>\r\n       <path d=\"M 18.3125 70.21875 \r\nL 18.3125 54.6875 \r\nL 36.8125 54.6875 \r\nL 36.8125 47.703125 \r\nL 18.3125 47.703125 \r\nL 18.3125 18.015625 \r\nQ 18.3125 11.328125 20.140625 9.421875 \r\nQ 21.96875 7.515625 27.59375 7.515625 \r\nL 36.8125 7.515625 \r\nL 36.8125 0 \r\nL 27.59375 0 \r\nQ 17.1875 0 13.234375 3.875 \r\nQ 9.28125 7.765625 9.28125 18.015625 \r\nL 9.28125 47.703125 \r\nL 2.6875 47.703125 \r\nL 2.6875 54.6875 \r\nL 9.28125 54.6875 \r\nL 9.28125 70.21875 \r\nz\r\n\" id=\"DejaVuSans-116\"/>\r\n       <path d=\"M 31 75.875 \r\nQ 24.46875 64.65625 21.28125 53.65625 \r\nQ 18.109375 42.671875 18.109375 31.390625 \r\nQ 18.109375 20.125 21.3125 9.0625 \r\nQ 24.515625 -2 31 -13.1875 \r\nL 23.1875 -13.1875 \r\nQ 15.875 -1.703125 12.234375 9.375 \r\nQ 8.59375 20.453125 8.59375 31.390625 \r\nQ 8.59375 42.28125 12.203125 53.3125 \r\nQ 15.828125 64.359375 23.1875 75.875 \r\nz\r\n\" id=\"DejaVuSans-40\"/>\r\n       <path d=\"M 44.28125 53.078125 \r\nL 44.28125 44.578125 \r\nQ 40.484375 46.53125 36.375 47.5 \r\nQ 32.28125 48.484375 27.875 48.484375 \r\nQ 21.1875 48.484375 17.84375 46.4375 \r\nQ 14.5 44.390625 14.5 40.28125 \r\nQ 14.5 37.15625 16.890625 35.375 \r\nQ 19.28125 33.59375 26.515625 31.984375 \r\nL 29.59375 31.296875 \r\nQ 39.15625 29.25 43.1875 25.515625 \r\nQ 47.21875 21.78125 47.21875 15.09375 \r\nQ 47.21875 7.46875 41.1875 3.015625 \r\nQ 35.15625 -1.421875 24.609375 -1.421875 \r\nQ 20.21875 -1.421875 15.453125 -0.5625 \r\nQ 10.6875 0.296875 5.421875 2 \r\nL 5.421875 11.28125 \r\nQ 10.40625 8.6875 15.234375 7.390625 \r\nQ 20.0625 6.109375 24.8125 6.109375 \r\nQ 31.15625 6.109375 34.5625 8.28125 \r\nQ 37.984375 10.453125 37.984375 14.40625 \r\nQ 37.984375 18.0625 35.515625 20.015625 \r\nQ 33.0625 21.96875 24.703125 23.78125 \r\nL 21.578125 24.515625 \r\nQ 13.234375 26.265625 9.515625 29.90625 \r\nQ 5.8125 33.546875 5.8125 39.890625 \r\nQ 5.8125 47.609375 11.28125 51.796875 \r\nQ 16.75 56 26.8125 56 \r\nQ 31.78125 56 36.171875 55.265625 \r\nQ 40.578125 54.546875 44.28125 53.078125 \r\nz\r\n\" id=\"DejaVuSans-115\"/>\r\n       <path d=\"M 8.015625 75.875 \r\nL 15.828125 75.875 \r\nQ 23.140625 64.359375 26.78125 53.3125 \r\nQ 30.421875 42.28125 30.421875 31.390625 \r\nQ 30.421875 20.453125 26.78125 9.375 \r\nQ 23.140625 -1.703125 15.828125 -13.1875 \r\nL 8.015625 -13.1875 \r\nQ 14.5 -2 17.703125 9.0625 \r\nQ 20.90625 20.125 20.90625 31.390625 \r\nQ 20.90625 42.671875 17.703125 53.65625 \r\nQ 14.5 64.65625 8.015625 75.875 \r\nz\r\n\" id=\"DejaVuSans-41\"/>\r\n      </defs>\r\n      <use xlink:href=\"#DejaVuSans-116\"/>\r\n      <use x=\"39.208984\" xlink:href=\"#DejaVuSans-32\"/>\r\n      <use x=\"70.996094\" xlink:href=\"#DejaVuSans-40\"/>\r\n      <use x=\"110.009766\" xlink:href=\"#DejaVuSans-115\"/>\r\n      <use x=\"162.109375\" xlink:href=\"#DejaVuSans-41\"/>\r\n     </g>\r\n    </g>\r\n   </g>\r\n   <g id=\"line2d_25\">\r\n    <path clip-path=\"url(#p41c2dd53e4)\" d=\"M 59.774119 201.865672 \r\nL 70.290574 195.321813 \r\nL 92.266743 194.131426 \r\nL 118.165355 214.756364 \r\nL 130.012193 190.105411 \r\nL 139.3495 180.430149 \r\nL 152.356265 205.560392 \r\nL 154.795072 208.859861 \r\nL 162.256616 193.058385 \r\nL 171.755812 186.236832 \r\nL 173.591333 211.05688 \r\nL 179.730972 208.982657 \r\nL 184.374905 214.029891 \r\nL 189.209818 212.992921 \r\nL 190.834067 195.187376 \r\nL 192.362567 210.450623 \r\nL 200.134734 191.345101 \r\nL 201.870095 163.664859 \r\nL 203.086517 164.814768 \r\nL 205.596104 190.614275 \r\nL 206.381427 182.688438 \r\nL 210.996251 193.539428 \r\nL 214.148312 164.281378 \r\nL 217.199476 184.47211 \r\nL 219.356128 190.942293 \r\nL 221.219055 187.229898 \r\nL 222.667297 176.759268 \r\nL 224.743346 190.381985 \r\nL 227.725924 190.52116 \r\nL 228.821455 189.762967 \r\nL 229.483385 161.556499 \r\nL 231.94014 158.334924 \r\nL 233.760148 137.04859 \r\nL 234.027946 157.532753 \r\nL 236.93092 145.835908 \r\nL 238.175686 154.809351 \r\nL 237.649512 180.226259 \r\nL 241.95928 180.618178 \r\nL 240.971093 181.434052 \r\nL 244.139007 179.505973 \r\nL 245.321456 179.307778 \r\nL 247.179765 145.595601 \r\nL 246.228115 149.243977 \r\nL 248.441628 146.143264 \r\nL 250.654933 168.994975 \r\nL 251.315104 148.860806 \r\nL 251.769796 171.615988 \r\nL 253.050313 172.512069 \r\nL 255.041695 171.112986 \r\nL 256.577584 169.466031 \r\nL 257.570068 168.827529 \r\nL 258.913093 167.312511 \r\nL 260.25278 166.072531 \r\nL 260.12704 158.866272 \r\nL 261.710566 158.421437 \r\nL 262.839117 152.839182 \r\nL 263.456142 144.953787 \r\nL 264.323342 161.843953 \r\nL 266.307005 160.247655 \r\nL 267.515431 158.919008 \r\nL 267.541273 158.980641 \r\nL 269.751748 156.708776 \r\nL 270.591879 154.770613 \r\nL 270.249004 155.865096 \r\nL 271.487117 154.616121 \r\nL 272.470224 152.526937 \r\nL 272.658211 153.235598 \r\nL 274.15838 145.912475 \r\nL 274.361051 150.024134 \r\nL 276.525289 149.224384 \r\nL 278.511485 147.408762 \r\nL 278.983762 147.077043 \r\nL 279.755852 145.578087 \r\nL 279.621101 145.391857 \r\nL 279.666995 145.995134 \r\nL 281.451772 143.729001 \r\nL 281.747194 143.844998 \r\nL 282.367049 143.328965 \r\nL 283.635865 141.353263 \r\nL 284.035501 132.94946 \r\nL 283.847933 139.13454 \r\nL 284.852121 139.345868 \r\nL 286.098222 138.73487 \r\nL 286.314127 138.777457 \r\nL 287.537306 137.487054 \r\nL 287.977609 136.789213 \r\nL 288.859124 136.132213 \r\nL 289.176978 135.681376 \r\nL 289.496524 127.246028 \r\nL 290.4126 132.140268 \r\nL 290.880674 132.396091 \r\nL 291.290531 133.617286 \r\nL 291.970744 132.198233 \r\nL 292.788538 131.725941 \r\nL 294.905089 129.384063 \r\nL 295.468502 123.81933 \r\nL 295.722457 103.091211 \r\nL 296.068709 122.529948 \r\nL 296.968683 123.688067 \r\nL 297.364315 125.918348 \r\nL 298.293596 124.639686 \r\nL 298.820904 124.658085 \r\nL 299.032697 123.320969 \r\nL 299.302304 124.243574 \r\nL 300.077524 116.228933 \r\nL 300.400891 109.645209 \r\nL 300.701104 122.115997 \r\nL 301.38137 121.777357 \r\nL 302.080647 119.985989 \r\nL 302.377871 120.276888 \r\nL 302.529126 99.303381 \r\nL 303.123293 119.487674 \r\nL 303.442325 97.185228 \r\nL 303.626095 116.961427 \r\nL 304.105673 116.937226 \r\nL 304.597182 117.409957 \r\nL 305.291313 116.619458 \r\nL 305.676101 116.597905 \r\nL 305.59682 116.56919 \r\nL 306.432806 112.517412 \r\nL 306.933454 112.735649 \r\nL 307.355154 114.05682 \r\nL 307.614473 113.915426 \r\nL 307.646592 110.642412 \r\nL 308.648643 112.066534 \r\nL 308.736728 113.062555 \r\nL 309.000945 93.94535 \r\nL 308.790314 107.677994 \r\nL 309.858791 111.619767 \r\nL 309.971392 111.4947 \r\nL 310.587838 108.272996 \r\nL 310.860692 110.132138 \r\nL 311.551442 109.633612 \r\nL 311.500111 103.30367 \r\nL 311.997277 109.043778 \r\nL 312.151141 107.765458 \r\nL 312.498026 95.154517 \r\nL 313.144075 107.233393 \r\nL 313.53216 97.563014 \r\nL 314.310491 106.232958 \r\nL 314.657846 80.416522 \r\nL 314.873906 92.467983 \r\nL 314.583553 83.56645 \r\nL 314.536484 95.380638 \r\nL 315.863948 104.846074 \r\nL 316.799547 103.404039 \r\nL 317.267648 103.018596 \r\nL 317.171906 103.133908 \r\nL 317.486334 101.542033 \r\nL 318.092333 101.919415 \r\nL 318.427351 96.96588 \r\nL 318.569788 101.465276 \r\nL 318.765864 99.259806 \r\nL 319.457851 97.273647 \r\nL 319.672168 97.529698 \r\nL 319.923604 99.212081 \r\nL 319.785558 99.964113 \r\nL 320.616375 96.046952 \r\nL 320.881447 89.262718 \r\nL 320.893006 98.766303 \r\nL 321.445655 98.435934 \r\nL 321.799328 94.193229 \r\nL 322.062637 96.5277 \r\nL 322.324342 91.871593 \r\nL 322.213178 92.039913 \r\nL 323.011438 95.2997 \r\nL 323.140948 94.087619 \r\nL 323.420019 87.655538 \r\nL 323.519674 92.238525 \r\nL 323.926263 90.299631 \r\nL 324.298117 93.315656 \r\nL 324.511519 70.62481 \r\nL 324.365114 83.461715 \r\nL 325.057626 93.457541 \r\nL 325.192258 79.387903 \r\nL 325.445134 70.802326 \r\nL 325.877393 85.071126 \r\nL 326.234127 90.338044 \r\nL 326.485966 84.560303 \r\nL 326.79857 90.350859 \r\nL 326.844985 90.102939 \r\nL 327.156343 72.193002 \r\nL 327.507541 71.00143 \r\nL 327.827946 90.031998 \r\nL 327.820784 69.433303 \r\nL 328.428326 81.081151 \r\nL 328.448485 89.644038 \r\nL 328.61124 78.641713 \r\nL 329.065771 79.637413 \r\nL 329.530624 69.935681 \r\nL 329.599167 71.454667 \r\nL 330.056574 87.515251 \r\nL 330.26638 80.637616 \r\nL 330.624308 82.229679 \r\nL 330.81608 77.670532 \r\nL 331.326413 81.691649 \r\nL 331.621749 75.46323 \r\nL 331.603184 71.867689 \r\nL 332.08733 81.618075 \r\nL 332.136964 85.014877 \r\nL 332.136964 83.813609 \r\nL 332.391489 80.069762 \r\nL 332.860579 83.759491 \r\nL 333.188076 84.295897 \r\nL 333.592898 68.773114 \r\nL 333.682454 56.483683 \r\nL 333.765673 64.933718 \r\nL 334.140522 79.843976 \r\nL 334.416757 82.45763 \r\nL 334.672617 81.164791 \r\nL 334.824223 79.101725 \r\nL 334.740465 81.999184 \r\nL 335.365616 79.10626 \r\nL 335.622311 72.289088 \r\nL 335.76507 79.580608 \r\nL 335.992969 78.547217 \r\nL 336.287977 77.798069 \r\nL 336.377192 79.678929 \r\nL 336.513758 79.672775 \r\nL 336.868114 73.905658 \r\nL 337.206548 79.149373 \r\nL 337.425087 75.742843 \r\nL 337.894746 78.308114 \r\nL 338.000815 77.831485 \r\nL 338.012195 61.639856 \r\nL 338.158828 77.077861 \r\nL 338.650213 76.261565 \r\nL 338.90895 65.373219 \r\nL 339.090206 68.501397 \r\nL 339.014243 64.537724 \r\nL 339.459185 75.147163 \r\nL 339.603233 74.401557 \r\nL 339.90535 74.535916 \r\nL 340.034059 73.853523 \r\nL 340.40499 66.73731 \r\nL 340.308849 74.794393 \r\nL 340.498451 74.348622 \r\nL 340.870234 68.552171 \r\nL 341.179936 71.674653 \r\nL 341.339291 61.11271 \r\nL 341.660777 72.548775 \r\nL 342.058511 65.73045 \r\nL 342.344316 65.89267 \r\nL 342.255355 71.199389 \r\nL 342.810618 67.312843 \r\nL 342.849592 70.302052 \r\nL 343.005376 72.043014 \r\nL 343.134096 71.556383 \r\nL 343.612904 71.204131 \r\nL 343.67974 70.706441 \r\nL 343.780811 65.270812 \r\nL 344.0693 70.366694 \r\nL 344.286818 69.861079 \r\nL 344.497876 62.195903 \r\nL 344.583455 69.48443 \r\nL 344.794531 57.588736 \r\nL 344.952807 17.083636 \r\nL 344.907279 45.811926 \r\nL 345.422135 63.241621 \r\nL 345.788458 68.800631 \r\nL 345.65683 64.141246 \r\nL 346.079545 65.49385 \r\nL 345.889839 65.812212 \r\nL 346.524382 49.934838 \r\nL 346.846043 66.127128 \r\nL 346.844627 61.219813 \r\nL 347.096924 64.874621 \r\nL 347.344806 64.546901 \r\nL 347.401111 52.729447 \r\nL 348.005179 61.788184 \r\nL 347.926312 49.02365 \r\nL 348.206009 59.426381 \r\nL 348.377274 50.474689 \r\nL 348.687064 50.085293 \r\nL 348.816966 62.547869 \r\nL 349.008094 60.334492 \r\nL 349.414778 58.775919 \r\nL 349.550211 62.555593 \r\nL 349.365438 61.630139 \r\nL 349.696725 61.349591 \r\nL 350.035467 54.716964 \r\nL 350.151145 59.463545 \r\nL 350.193147 58.548163 \r\nL 350.493008 43.5781 \r\nL 350.548497 56.019542 \r\nL 350.921704 57.326144 \r\nL 350.95678 58.365502 \r\nL 351.104854 58.909686 \r\nL 351.530562 54.656677 \r\nL 351.575786 60.195592 \r\nL 351.712831 57.974011 \r\nL 352.109768 59.190353 \r\nL 352.12958 59.614287 \r\nL 352.288354 58.851248 \r\nL 352.707168 58.981255 \r\nL 352.986339 56.29873 \r\nL 353.05252 58.47714 \r\nL 353.294431 54.124677 \r\nL 353.502507 55.651838 \r\nL 353.609196 54.610023 \r\nL 353.990329 56.0571 \r\nL 354.050169 52.759355 \r\nL 354.311684 50.645621 \r\nL 354.33428 55.857535 \r\nL 354.479247 54.504851 \r\nL 354.706027 55.196438 \r\nL 354.865279 55.229067 \r\nL 354.890366 54.876602 \r\nL 355.199652 54.659885 \r\nL 355.393774 52.547235 \r\nL 355.384314 54.030498 \r\nL 355.587032 55.151175 \r\nL 355.721733 53.198694 \r\nL 355.840295 54.998108 \r\nL 355.933816 50.76872 \r\nL 355.910574 52.10337 \r\nL 356.469544 53.296642 \r\nL 356.469824 50.247338 \r\nL 356.678255 48.411146 \r\nL 356.849141 52.748935 \r\nL 357.169233 47.829605 \r\nL 357.317475 48.297227 \r\nL 357.320853 53.020619 \r\nL 357.607167 52.047077 \r\nL 357.757052 52.84857 \r\nL 357.85213 50.994344 \r\nL 357.901189 51.423229 \r\nL 358.195052 50.703009 \r\nL 358.250507 48.016196 \r\nL 358.311826 48.942828 \r\nL 358.525633 48.365002 \r\nL 358.80272 48.958677 \r\nL 358.879293 47.206373 \r\nL 358.993541 48.245683 \r\nL 359.114727 47.164736 \r\nL 359.40321 46.768887 \r\nL 359.290631 48.306607 \r\nL 359.45042 49.186201 \r\nL 359.707133 48.892342 \r\nL 359.994011 47.219696 \r\nL 360.069339 48.602297 \r\nL 360.257975 46.735627 \r\nL 360.343004 48.353256 \r\nL 360.549476 43.081995 \r\nL 360.769817 45.581943 \r\nL 360.824286 48.295175 \r\nL 361.117464 48.171732 \r\nL 361.211357 47.992959 \r\nL 361.314758 46.46107 \r\nL 361.411057 47.102522 \r\nL 361.619077 46.084868 \r\nL 361.676134 46.767769 \r\nL 361.801583 46.334725 \r\nL 362.128015 47.511346 \r\nL 362.252867 47.194188 \r\nL 362.260462 46.254804 \r\nL 362.498126 45.498469 \r\nL 362.637507 45.5558 \r\nL 362.811916 42.681758 \r\nL 362.763769 41.211421 \r\nL 363.030189 44.546303 \r\nL 363.176666 43.927011 \r\nL 363.273502 44.528287 \r\nL 363.460873 44.565112 \r\nL 363.540078 44.264685 \r\nL 363.696923 41.521438 \r\nL 363.839167 44.182455 \r\nL 363.953555 43.008178 \r\nL 364.137756 42.495607 \r\nL 364.137756 42.495607 \r\n\" style=\"fill:none;stroke:#ff0000;stroke-width:2;\"/>\r\n   </g>\r\n   <g id=\"patch_3\">\r\n    <path d=\"M 44.555937 224.64 \r\nL 44.555937 7.2 \r\n\" style=\"fill:none;stroke:#eee8d5;stroke-linecap:square;stroke-linejoin:miter;stroke-width:0.8;\"/>\r\n   </g>\r\n   <g id=\"patch_4\">\r\n    <path d=\"M 379.355938 224.64 \r\nL 379.355938 7.2 \r\n\" style=\"fill:none;stroke:#eee8d5;stroke-linecap:square;stroke-linejoin:miter;stroke-width:0.8;\"/>\r\n   </g>\r\n   <g id=\"patch_5\">\r\n    <path d=\"M 44.555937 224.64 \r\nL 379.355938 224.64 \r\n\" style=\"fill:none;stroke:#eee8d5;stroke-linecap:square;stroke-linejoin:miter;stroke-width:0.8;\"/>\r\n   </g>\r\n   <g id=\"patch_6\">\r\n    <path d=\"M 44.555937 7.2 \r\nL 379.355938 7.2 \r\n\" style=\"fill:none;stroke:#eee8d5;stroke-linecap:square;stroke-linejoin:miter;stroke-width:0.8;\"/>\r\n   </g>\r\n   <g id=\"legend_1\">\r\n    <g id=\"patch_7\">\r\n     <path d=\"M 51.555937 29.878125 \r\nL 172.295 29.878125 \r\nQ 174.295 29.878125 174.295 27.878125 \r\nL 174.295 14.2 \r\nQ 174.295 12.2 172.295 12.2 \r\nL 51.555937 12.2 \r\nQ 49.555937 12.2 49.555937 14.2 \r\nL 49.555937 27.878125 \r\nQ 49.555937 29.878125 51.555937 29.878125 \r\nz\r\n\" style=\"fill:#eee8d5;opacity:0.8;stroke:#cccccc;stroke-linejoin:miter;\"/>\r\n    </g>\r\n    <g id=\"line2d_26\">\r\n     <path d=\"M 53.555937 20.298437 \r\nL 73.555937 20.298437 \r\n\" style=\"fill:none;stroke:#ff0000;stroke-width:2;\"/>\r\n    </g>\r\n    <g id=\"line2d_27\"/>\r\n    <g id=\"text_15\">\r\n     <!-- n + k [2, 249691] -->\r\n     <g transform=\"translate(81.555937 23.798437)scale(0.1 -0.1)\">\r\n      <defs>\r\n       <path d=\"M 8.59375 75.984375 \r\nL 29.296875 75.984375 \r\nL 29.296875 69 \r\nL 17.578125 69 \r\nL 17.578125 -6.203125 \r\nL 29.296875 -6.203125 \r\nL 29.296875 -13.1875 \r\nL 8.59375 -13.1875 \r\nz\r\n\" id=\"DejaVuSans-91\"/>\r\n       <path d=\"M 11.71875 12.40625 \r\nL 22.015625 12.40625 \r\nL 22.015625 4 \r\nL 14.015625 -11.625 \r\nL 7.71875 -11.625 \r\nL 11.71875 4 \r\nz\r\n\" id=\"DejaVuSans-44\"/>\r\n       <path d=\"M 30.421875 75.984375 \r\nL 30.421875 -13.1875 \r\nL 9.71875 -13.1875 \r\nL 9.71875 -6.203125 \r\nL 21.390625 -6.203125 \r\nL 21.390625 69 \r\nL 9.71875 69 \r\nL 9.71875 75.984375 \r\nz\r\n\" id=\"DejaVuSans-93\"/>\r\n      </defs>\r\n      <use xlink:href=\"#DejaVuSans-110\"/>\r\n      <use x=\"63.378906\" xlink:href=\"#DejaVuSans-32\"/>\r\n      <use x=\"95.166016\" xlink:href=\"#DejaVuSans-43\"/>\r\n      <use x=\"178.955078\" xlink:href=\"#DejaVuSans-32\"/>\r\n      <use x=\"210.742188\" xlink:href=\"#DejaVuSans-107\"/>\r\n      <use x=\"268.652344\" xlink:href=\"#DejaVuSans-32\"/>\r\n      <use x=\"300.439453\" xlink:href=\"#DejaVuSans-91\"/>\r\n      <use x=\"339.453125\" xlink:href=\"#DejaVuSans-50\"/>\r\n      <use x=\"403.076172\" xlink:href=\"#DejaVuSans-44\"/>\r\n      <use x=\"434.863281\" xlink:href=\"#DejaVuSans-32\"/>\r\n      <use x=\"466.650391\" xlink:href=\"#DejaVuSans-50\"/>\r\n      <use x=\"530.273438\" xlink:href=\"#DejaVuSans-52\"/>\r\n      <use x=\"593.896484\" xlink:href=\"#DejaVuSans-57\"/>\r\n      <use x=\"657.519531\" xlink:href=\"#DejaVuSans-54\"/>\r\n      <use x=\"721.142578\" xlink:href=\"#DejaVuSans-57\"/>\r\n      <use x=\"784.765625\" xlink:href=\"#DejaVuSans-49\"/>\r\n      <use x=\"848.388672\" xlink:href=\"#DejaVuSans-93\"/>\r\n     </g>\r\n    </g>\r\n   </g>\r\n  </g>\r\n </g>\r\n <defs>\r\n  <clipPath id=\"p41c2dd53e4\">\r\n   <rect height=\"217.44\" width=\"334.8\" x=\"44.555937\" y=\"7.2\"/>\r\n  </clipPath>\r\n </defs>\r\n</svg>\r\n",
      "image/png": "[encoded data removed]"
     },
     "metadata": {}
    }
   ],
   "metadata": {}
  },
  {
   "cell_type": "code",
   "execution_count": null,
   "source": [],
   "outputs": [],
   "metadata": {}
  }
 ]
}