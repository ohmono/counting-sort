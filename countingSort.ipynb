{
 "metadata": {
  "language_info": {
   "codemirror_mode": {
    "name": "ipython",
    "version": 3
   },
   "file_extension": ".py",
   "mimetype": "text/x-python",
   "name": "python",
   "nbconvert_exporter": "python",
   "pygments_lexer": "ipython3",
   "version": "3.8.10"
  },
  "orig_nbformat": 2,
  "kernelspec": {
   "name": "python3",
   "display_name": "Python 3.8.10 64-bit"
  },
  "metadata": {
   "interpreter": {
    "hash": "cc691cb6f78b01aaf214942beb8a08c177de914380e5fed5a73e560f28ba4ae2"
   }
  },
  "interpreter": {
   "hash": "cc691cb6f78b01aaf214942beb8a08c177de914380e5fed5a73e560f28ba4ae2"
  }
 },
 "nbformat": 4,
 "nbformat_minor": 2,
 "cells": [
  {
   "cell_type": "markdown",
   "source": [
    "# Counting Sort \r\n",
    "\r\n",
    "Explanation of counting sort functionality and demonstration of their lineal magnitude order.\r\n",
    "\r\n",
    "---\r\n",
    "![Universidad de Antioquia](https://www.udea.edu.co/wps/wcm/connect/udea/721b156e-f6bc-4dc8-8595-8b4731c9a8c7/facultad-ingenieria.png?MOD=AJPERES&CVID=nc5CqsS)\r\n",
    "\r\n",
    "\r\n",
    "\r\n",
    "## Departamento de Ingeniería de Sistemas\r\n",
    "### Estructuras de Datos\r\n",
    "#### 2021-1\r\n",
    "\r\n",
    "---\r\n",
    "\r\n",
    "> *Juan Cardona* "
   ],
   "metadata": {}
  },
  {
   "cell_type": "markdown",
   "source": [
    "## Developer\n",
    "\n",
    "**Harold H. Seward** computer scientist, engineer and inventor.\n",
    "\n",
    "**Seward** developed the *radix sort* and *counting sort* algorithms in 1954 at MIT.\n",
    "\n",
    "![Harold H Seward](https://currentobitwebstorage.blob.core.windows.net/067/06822c877d864c47b0b15c7005b30790.jpg)\n",
    "\n",
    "Born:\t*July 24, 1930*\n",
    "\n",
    "Died:\t*June 19, 2012* (aged 81)\n",
    "\n",
    "He also worked on the *Whirlwind Computer* (it was among the first digital electronic computers that operated in real-time for output) and developed instruments that powered the guidance systems for the Apollo spacecraft and Polaris missile.\n",
    "\n",
    "\n"
   ],
   "metadata": {}
  },
  {
   "cell_type": "markdown",
   "source": [
    "## Introducing Counting Sort\n",
    "\n",
    "### What is counting sort?\n",
    "\n",
    "It is a sorting algorithm where all the input in the input $array$ are positive integers.\n",
    "\n",
    "Counting sort assumes that each element in the input $array$ has a value ranging from $minValue$ to $maxValue$.\n",
    "\n",
    "- $array$\n",
    "- $minValue$\n",
    "- $maxValue$\n",
    "\n"
   ],
   "metadata": {}
  },
  {
   "cell_type": "code",
   "execution_count": null,
   "source": [
    "import numpy.random as rdm\r\n",
    "\r\n",
    "# create one random input array\r\n",
    "arr = list(rdm.randint(19,size = 7)) \r\n",
    "\r\n",
    "# get the minimum value in the input array \r\n",
    "minValue = min(arr)\r\n",
    "\r\n",
    "# get the maximum value in the input array\r\n",
    "maxValue = max(arr) \r\n",
    "\r\n",
    "print('array = '+str(arr))\r\n",
    "print('minValue = '+ str(minValue))\r\n",
    "print('maxValue = '+ str(maxValue))\r\n",
    "# print('---this cell runs 3n times')"
   ],
   "outputs": [],
   "metadata": {}
  },
  {
   "cell_type": "markdown",
   "source": [
    "### Functionality\n",
    "\n",
    "Counting sorts is a special sorting algorithm that runs in linear time\n",
    "\n",
    "* $O(n+k)$\n",
    "\n",
    "with respect to two variables:\n",
    "\n",
    "1. The length of the input $array$\n",
    "\n",
    "- $n = length(array)$\n",
    "\n",
    "2. The distance betwen the $minValue$ and the $maxValue$\n",
    "\n",
    "- $k = maxValue - minValue + 1$"
   ],
   "metadata": {}
  },
  {
   "cell_type": "code",
   "execution_count": null,
   "source": [
    "# get the length of the input array\r\n",
    "n = len(arr) \r\n",
    "\r\n",
    "# get the distance between the minValue and the maxValue\r\n",
    "k = maxValue - minValue + 1 \r\n",
    "\r\n",
    "print('n = '+str(n))\r\n",
    "print('k = '+ str(k))\r\n",
    "# print('---this cell runs n+1 times')"
   ],
   "outputs": [],
   "metadata": {}
  },
  {
   "cell_type": "markdown",
   "source": [
    "For each element in the $array$, counting sort map it as the index of the $temporal$ array and increasing in 1 the corresponding value.\n",
    "- $temporal=[0,0,0, \\dots, k]$"
   ],
   "metadata": {}
  },
  {
   "cell_type": "code",
   "execution_count": null,
   "source": [
    "# create the temporal array\r\n",
    "temporal = [0]*k \r\n",
    "\r\n",
    "# fill the temporal array with the occurrences of each value in the input array\r\n",
    "for value in arr:\r\n",
    "    temporal[value - minValue]+=1  \r\n",
    "\r\n",
    "print('temporal = ' +str(temporal))\r\n",
    "# print('---this cell runs k+n times')\r\n",
    "print(sum(temporal)==n)"
   ],
   "outputs": [],
   "metadata": {}
  },
  {
   "cell_type": "markdown",
   "source": [
    "Finally counting sort use the $temporal$ array index to place the element directly into the correct slot in the $solution$ array.\r\n",
    "\r\n",
    "- $solution=[0,0,0, \\dots, n]$"
   ],
   "metadata": {}
  },
  {
   "cell_type": "code",
   "execution_count": null,
   "source": [
    "# create the soution array\r\n",
    "solution = []\r\n",
    "\r\n",
    "# fill the solution array with the index on the temporal array if the value in it, it's different to 0\r\n",
    "for i in range(len(temporal)):\r\n",
    "    while temporal[i]>0:\r\n",
    "        solution.append(i+minValue)\r\n",
    "        temporal[i]-=1\r\n",
    "\r\n",
    "print('solution = '+ str(solution))  \r\n",
    "\r\n",
    "# print('---this cell runs 1+k+n times')"
   ],
   "outputs": [],
   "metadata": {}
  },
  {
   "cell_type": "markdown",
   "source": [
    "\n",
    "## $O(n+k)$\n",
    "### Demonstration of the magnitude order\n",
    "\n",
    "First I'll get all the times that each cell was executed and then I'll define the magnitud order function for the code i wrote. \n",
    "\n",
    "### Cell 1 iterations $\\sum_{i=1}^{n} 1 +\\sum_{i=1}^{n} 1 +\\sum_{i=1}^{n} 1 = 3n$\n",
    "### Cell 2 iterations $(\\sum_{i=1}^{n} 1 )+ 1 = n +1$\n",
    "### Cell 3 iterations $\\sum_{i=1}^{k} 1 + \\sum_{i=1}^{n} 1 = k+n$\n",
    "### Cell 4 iterations $1 + \\sum_{i=1}^{k} 1+ \\sum_{i=1}^{n} 1 = 1+k+n$\n",
    "\n",
    "$O(n+k) = \\sum_{i=1}^{n} 1 +\\sum_{i=1}^{n} 1 +\\sum_{i=1}^{n} 1 + (\\sum_{i=1}^{n} 1 )+ 1 + \\sum_{i=1}^{k} 1 + (\\sum_{i=1}^{n} 1) + 1 + \\sum_{i=1}^{k} 1+ \\sum_{i=1}^{n} 1 $\n",
    "\n",
    "$O(n+k) = 3n+n+1+k+n+1+k+n $\n",
    "\n",
    "$O(n+k) = 6n+2k+2$"
   ],
   "metadata": {}
  },
  {
   "cell_type": "markdown",
   "source": [
    "I want to graph an array with points in the form $(n+k, O(n+k))$, with $n$ increasiong, so i define the next function to perform the counting sort for $n$ variable and return the value of $n + k$."
   ],
   "metadata": {}
  },
  {
   "cell_type": "code",
   "execution_count": null,
   "source": [
    "def countingSorn (n):\r\n",
    "    import numpy.random as rdm\r\n",
    "    \r\n",
    "    # create one random input array\r\n",
    "    arr = list(rdm.randint(n**2, size = n))\r\n",
    "\r\n",
    "    # get the minimum value in the input array \r\n",
    "    minValue = min(arr)\r\n",
    "\r\n",
    "    # get the maximum value in the input array\r\n",
    "    maxValue = max(arr)\r\n",
    "\r\n",
    "    # get the length of the input array\r\n",
    "    n = len(arr) \r\n",
    "\r\n",
    "    # get the distance between the minValue and the maxValue\r\n",
    "    k = maxValue - minValue + 1 \r\n",
    "\r\n",
    "    # create the temporal array\r\n",
    "    temporal = [0]*k \r\n",
    "\r\n",
    "    # fill the temporal array with the occurrences of each value in the input array\r\n",
    "    for value in arr:\r\n",
    "        temporal[value - minValue]+=1  \r\n",
    "\r\n",
    "    # create the soution array\r\n",
    "    solution = []\r\n",
    "\r\n",
    "    # fill the solution array with the index on the temporal array if the value in it, it's different to 0\r\n",
    "    for i in range(len(temporal)):\r\n",
    "        while temporal[i]>0:\r\n",
    "            solution.append(i+minValue)\r\n",
    "            temporal[i]-=1\r\n",
    "\r\n",
    "    # return an array tith the time of execution and the sum n + k \r\n",
    "    return n+k\r\n"
   ],
   "outputs": [],
   "metadata": {}
  },
  {
   "cell_type": "markdown",
   "source": [
    "Finally I creste 2 arrays: \r\n",
    "- $timer = [O(n_1 + k_1)_1, ..., O(n_i + k_i)_i], i \\in [1, n]$ for each time that take the run of the counting sort for each $nk = [(n_1 + k_1), ..., (n_i + k_i)]$"
   ],
   "metadata": {}
  },
  {
   "cell_type": "code",
   "execution_count": null,
   "source": [
    "import matplotlib.pyplot as plt\r\n",
    "plt.style.use('Solarize_Light2')\r\n",
    "import numpy as np\r\n",
    "\r\n",
    "# create array to fill it with the time of execution\r\n",
    "timer = []\r\n",
    "# create array to fill it with the value of each n + k\r\n",
    "nk = []\r\n",
    "\r\n",
    "# create linear space to map the counting sort and give a continuous grid layer\r\n",
    "n_set = np.linspace(1, 500, 20).astype(int)\r\n",
    "\r\n",
    "# run the counting sort 20 times to fill the arrays\r\n",
    "for n in n_set:\r\n",
    "        \r\n",
    "    t = %timeit -o -q -r 1 -n 1 nk.append(countingSorn(n))\r\n",
    "    timer.append(t.worst)\r\n",
    "\r\n",
    "# plot the arrays to see the results\r\n",
    "plt.xlabel(\"n + k\")\r\n",
    "plt.ylabel(\"t (s)\")\r\n",
    "plt.plot(nk, timer, color=\"red\")\r\n",
    "plt.legend([f\"n + k [{nk[0]}, {nk[-1]}]\"], loc=\"upper left\")\r\n"
   ],
   "outputs": [],
   "metadata": {}
  },
  {
   "cell_type": "code",
   "execution_count": null,
   "source": [],
   "outputs": [],
   "metadata": {}
  }
 ]
}